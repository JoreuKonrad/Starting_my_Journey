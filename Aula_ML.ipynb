{
 "cells": [
  {
   "cell_type": "code",
   "execution_count": 2,
   "metadata": {},
   "outputs": [],
   "source": [
    "def cor_para_fruta(cor,tamanho):\n",
    "    if(cor==\"Laranja\"):\n",
    "        return \"Laranja\"\n",
    "    if(cor==\"Amarelo\"):\n",
    "        return \"Banana\"\n",
    "    if(cor==\"Vermelho\"):\n",
    "        return \"Morango\"\n",
    "    else:\n",
    "        return \"qualquer fruta\""
   ]
  },
  {
   "cell_type": "code",
   "execution_count": 3,
   "metadata": {},
   "outputs": [
    {
     "data": {
      "text/plain": [
       "'Laranja'"
      ]
     },
     "execution_count": 3,
     "metadata": {},
     "output_type": "execute_result"
    }
   ],
   "source": [
    "cor_para_fruta(\"Laranja\")"
   ]
  },
  {
   "cell_type": "code",
   "execution_count": null,
   "metadata": {},
   "outputs": [],
   "source": []
  }
 ],
 "metadata": {
  "kernelspec": {
   "display_name": "Python 3.11.0 64-bit",
   "language": "python",
   "name": "python3"
  },
  "language_info": {
   "codemirror_mode": {
    "name": "ipython",
    "version": 3
   },
   "file_extension": ".py",
   "mimetype": "text/x-python",
   "name": "python",
   "nbconvert_exporter": "python",
   "pygments_lexer": "ipython3",
   "version": "3.11.0 (main, Oct 24 2022, 18:26:48) [MSC v.1933 64 bit (AMD64)]"
  },
  "orig_nbformat": 4,
  "vscode": {
   "interpreter": {
    "hash": "2c13a3b19135cc32b2033145a8a1806a216bac684846dda15816d66667f0bd5d"
   }
  }
 },
 "nbformat": 4,
 "nbformat_minor": 2
}
