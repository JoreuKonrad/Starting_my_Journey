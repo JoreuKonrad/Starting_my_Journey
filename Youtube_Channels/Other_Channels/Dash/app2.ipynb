{
 "cells": [
  {
   "cell_type": "code",
   "execution_count": 2,
   "metadata": {},
   "outputs": [
    {
     "name": "stderr",
     "output_type": "stream",
     "text": [
      "C:\\Users\\joreu.konrad\\AppData\\Local\\Temp\\ipykernel_11188\\3516310066.py:2: UserWarning: \n",
      "The dash_core_components package is deprecated. Please replace\n",
      "`import dash_core_components as dcc` with `from dash import dcc`\n",
      "  import dash_core_components as dcc\n",
      "C:\\Users\\joreu.konrad\\AppData\\Local\\Temp\\ipykernel_11188\\3516310066.py:3: UserWarning: \n",
      "The dash_html_components package is deprecated. Please replace\n",
      "`import dash_html_components as html` with `from dash import html`\n",
      "  import dash_html_components as html\n"
     ]
    }
   ],
   "source": [
    "import dash\n",
    "import dash_core_components as dcc\n",
    "import dash_html_components as html\n",
    "import pandas as pd\n",
    "import base64\n"
   ]
  },
  {
   "cell_type": "code",
   "execution_count": 3,
   "metadata": {},
   "outputs": [
    {
     "data": {
      "text/html": [
       "<div>\n",
       "<style scoped>\n",
       "    .dataframe tbody tr th:only-of-type {\n",
       "        vertical-align: middle;\n",
       "    }\n",
       "\n",
       "    .dataframe tbody tr th {\n",
       "        vertical-align: top;\n",
       "    }\n",
       "\n",
       "    .dataframe thead th {\n",
       "        text-align: right;\n",
       "    }\n",
       "</style>\n",
       "<table border=\"1\" class=\"dataframe\">\n",
       "  <thead>\n",
       "    <tr style=\"text-align: right;\">\n",
       "      <th></th>\n",
       "      <th>id</th>\n",
       "      <th>nome</th>\n",
       "      <th>imagem</th>\n",
       "    </tr>\n",
       "  </thead>\n",
       "  <tbody>\n",
       "    <tr>\n",
       "      <th>0</th>\n",
       "      <td>1</td>\n",
       "      <td>Trem</td>\n",
       "      <td>https://pt.wikipedia.org/wiki/Trem#/media/Fich...</td>\n",
       "    </tr>\n",
       "    <tr>\n",
       "      <th>1</th>\n",
       "      <td>2</td>\n",
       "      <td>Carro</td>\n",
       "      <td>https://pt.wikipedia.org/wiki/Autom%C3%B3vel#/...</td>\n",
       "    </tr>\n",
       "  </tbody>\n",
       "</table>\n",
       "</div>"
      ],
      "text/plain": [
       "   id   nome                                             imagem\n",
       "0   1   Trem  https://pt.wikipedia.org/wiki/Trem#/media/Fich...\n",
       "1   2  Carro  https://pt.wikipedia.org/wiki/Autom%C3%B3vel#/..."
      ]
     },
     "execution_count": 3,
     "metadata": {},
     "output_type": "execute_result"
    }
   ],
   "source": [
    "import pandas as pd\n",
    "\n",
    "df = pd.read_excel('dados.xlsx')\n",
    "df"
   ]
  },
  {
   "cell_type": "code",
   "execution_count": 4,
   "metadata": {},
   "outputs": [],
   "source": [
    "def encode_image(image_file):\n",
    "    encoded = base64.b64encode(open(image_file, 'rb').read())\n",
    "    return 'data:image/png;base64,{}'.format(encoded.decode())"
   ]
  },
  {
   "cell_type": "code",
   "execution_count": 5,
   "metadata": {},
   "outputs": [],
   "source": [
    "app = dash.Dash(__name__)\n",
    "\n",
    "app.layout = html.Div([\n",
    "    html.H1('Tabela'),\n",
    "    dcc.Graph(id='datatable'),\n",
    "    html.Br(),\n",
    "    html.H1('Imagem'),\n",
    "    html.Img(id='imagem')\n",
    "])\n",
    "\n",
    "@app.callback(\n",
    "    dash.dependencies.Output('datatable', 'figure'),\n",
    "    [dash.dependencies.Input('datatable', 'selected_data')]\n",
    ")\n",
    "def update_table(selected_data):\n",
    "    if selected_data is None:\n",
    "        dff = df\n",
    "    else:\n",
    "        indices = [row['customdata'] for row in selected_data['points']]\n",
    "        dff = df.loc[indices]\n",
    "    table = {\n",
    "        'data': [{\n",
    "            'x': dff['Coluna1'],\n",
    "            'y': dff['Coluna2'],\n",
    "            'customdata': dff.index,\n",
    "            'type': 'scatter',\n",
    "            'mode': 'markers'\n",
    "        }],\n",
    "        'layout': {\n",
    "            'clickmode': 'event+select'\n",
    "        }\n",
    "    }\n",
    "    return table\n"
   ]
  },
  {
   "cell_type": "code",
   "execution_count": 6,
   "metadata": {},
   "outputs": [],
   "source": [
    "@app.callback(\n",
    "    dash.dependencies.Output('imagem', 'src'),\n",
    "    [dash.dependencies.Input('datatable', 'selected_data')]\n",
    ")\n",
    "def update_image(selected_data):\n",
    "    if selected_data is None:\n",
    "        return ''\n",
    "    else:\n",
    "        index = selected_data['points'][0]['customdata']\n",
    "        imagem = df.loc[index]['caminho_da_imagem']\n",
    "        encoded_image = encode_image(imagem)\n",
    "        return encoded_image"
   ]
  },
  {
   "cell_type": "code",
   "execution_count": 8,
   "metadata": {},
   "outputs": [
    {
     "name": "stdout",
     "output_type": "stream",
     "text": [
      "Dash is running on http://127.0.0.1:8050/\n",
      "\n",
      " * Serving Flask app '__main__'\n",
      " * Debug mode: off\n"
     ]
    }
   ],
   "source": [
    "if __name__ == '__main__':\n",
    "    app.run_server(debug=False)"
   ]
  }
 ],
 "metadata": {
  "kernelspec": {
   "display_name": "Python 3",
   "language": "python",
   "name": "python3"
  },
  "language_info": {
   "codemirror_mode": {
    "name": "ipython",
    "version": 3
   },
   "file_extension": ".py",
   "mimetype": "text/x-python",
   "name": "python",
   "nbconvert_exporter": "python",
   "pygments_lexer": "ipython3",
   "version": "3.11.1"
  },
  "orig_nbformat": 4
 },
 "nbformat": 4,
 "nbformat_minor": 2
}
