{
 "cells": [
  {
   "cell_type": "code",
   "execution_count": 1,
   "metadata": {},
   "outputs": [
    {
     "name": "stderr",
     "output_type": "stream",
     "text": [
      "C:\\Users\\joreu.konrad\\AppData\\Local\\Temp\\ipykernel_14488\\3516310066.py:2: UserWarning: \n",
      "The dash_core_components package is deprecated. Please replace\n",
      "`import dash_core_components as dcc` with `from dash import dcc`\n",
      "  import dash_core_components as dcc\n",
      "C:\\Users\\joreu.konrad\\AppData\\Local\\Temp\\ipykernel_14488\\3516310066.py:3: UserWarning: \n",
      "The dash_html_components package is deprecated. Please replace\n",
      "`import dash_html_components as html` with `from dash import html`\n",
      "  import dash_html_components as html\n"
     ]
    }
   ],
   "source": [
    "import dash\n",
    "import dash_core_components as dcc\n",
    "import dash_html_components as html\n",
    "import pandas as pd\n",
    "import base64\n"
   ]
  },
  {
   "cell_type": "code",
   "execution_count": 2,
   "metadata": {},
   "outputs": [],
   "source": [
    "df = pd.read_excel('dados.xlsx')"
   ]
  },
  {
   "cell_type": "code",
   "execution_count": 3,
   "metadata": {},
   "outputs": [],
   "source": [
    "def encode_image(image_file):\n",
    "    encoded = base64.b64encode(open(image_file, 'rb').read())\n",
    "    return 'data:image/png;base64,{}'.format(encoded.decode())\n"
   ]
  },
  {
   "cell_type": "code",
   "execution_count": 4,
   "metadata": {},
   "outputs": [],
   "source": [
    "app = dash.Dash(__name__)\n",
    "\n",
    "app.layout = html.Div([\n",
    "    html.H1('Tabela'),\n",
    "    dcc.Graph(id='datatable'),\n",
    "    html.Br(),\n",
    "    html.H1('Imagem'),\n",
    "    html.Img(id='imagem')\n",
    "])\n",
    "\n",
    "@app.callback(\n",
    "    dash.dependencies.Output('datatable', 'figure'),\n",
    "    [dash.dependencies.Input('datatable', 'selected_data')]\n",
    ")\n",
    "def update_table(selected_data):\n",
    "    if selected_data is None:\n",
    "        dff = df\n",
    "    else:\n",
    "        indices = [row['customdata'] for row in selected_data['points']]\n",
    "        dff = df.loc[indices]\n",
    "    table = {\n",
    "        'data': [{\n",
    "            'x': dff['nome'],\n",
    "            'y': dff['caminho_da_imagem'],\n",
    "            'customdata': dff.index,\n",
    "            'type': 'scatter',\n",
    "            'mode': 'markers'\n",
    "        }],\n",
    "        'layout': {\n",
    "            'clickmode': 'event+select'\n",
    "        }\n",
    "    }\n",
    "    return table\n"
   ]
  },
  {
   "cell_type": "code",
   "execution_count": 5,
   "metadata": {},
   "outputs": [],
   "source": [
    "@app.callback(\n",
    "    dash.dependencies.Output('imagem', 'src'),\n",
    "    [dash.dependencies.Input('datatable', 'selected_data')]\n",
    ")\n",
    "def update_image(selected_data):\n",
    "    if selected_data is None:\n",
    "        return ''\n",
    "    else:\n",
    "        index = selected_data['points'][0]['customdata']\n",
    "        imagem = df.loc[index]['caminho_da_imagem']\n",
    "        encoded_image = encode_image(imagem)\n",
    "        return encoded_image\n"
   ]
  },
  {
   "cell_type": "code",
   "execution_count": 6,
   "metadata": {},
   "outputs": [
    {
     "name": "stdout",
     "output_type": "stream",
     "text": [
      "Dash is running on http://127.0.0.1:8050/\n",
      "\n",
      " * Serving Flask app '__main__'\n",
      " * Debug mode: off\n"
     ]
    },
    {
     "name": "stderr",
     "output_type": "stream",
     "text": [
      "WARNING: This is a development server. Do not use it in a production deployment. Use a production WSGI server instead.\n",
      " * Running on http://127.0.0.1:8050\n",
      "Press CTRL+C to quit\n",
      "127.0.0.1 - - [10/Apr/2023 20:46:18] \"GET / HTTP/1.1\" 200 -\n",
      "127.0.0.1 - - [10/Apr/2023 20:46:18] \"GET /_dash-layout HTTP/1.1\" 200 -\n",
      "127.0.0.1 - - [10/Apr/2023 20:46:18] \"GET /_dash-dependencies HTTP/1.1\" 200 -\n",
      "127.0.0.1 - - [10/Apr/2023 20:46:19] \"GET /_dash-component-suites/dash/dcc/async-graph.js HTTP/1.1\" 304 -\n",
      "127.0.0.1 - - [10/Apr/2023 20:46:19] \"GET /_dash-component-suites/dash/dcc/async-plotlyjs.js HTTP/1.1\" 304 -\n",
      "127.0.0.1 - - [10/Apr/2023 20:46:19] \"POST /_dash-update-component HTTP/1.1\" 200 -\n",
      "127.0.0.1 - - [10/Apr/2023 20:46:19] \"POST /_dash-update-component HTTP/1.1\" 200 -\n"
     ]
    }
   ],
   "source": [
    "if __name__ == '__main__':\n",
    "    app.run_server(debug=False)\n"
   ]
  }
 ],
 "metadata": {
  "kernelspec": {
   "display_name": "Python 3",
   "language": "python",
   "name": "python3"
  },
  "language_info": {
   "codemirror_mode": {
    "name": "ipython",
    "version": 3
   },
   "file_extension": ".py",
   "mimetype": "text/x-python",
   "name": "python",
   "nbconvert_exporter": "python",
   "pygments_lexer": "ipython3",
   "version": "3.11.1"
  },
  "orig_nbformat": 4
 },
 "nbformat": 4,
 "nbformat_minor": 2
}
