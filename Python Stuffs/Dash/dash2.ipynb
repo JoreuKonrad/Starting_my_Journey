{
 "cells": [
  {
   "cell_type": "code",
   "execution_count": 1,
   "metadata": {},
   "outputs": [],
   "source": [
    "import pandas as pd\n",
    "\n",
    "df = pd.read_excel('dados.xlsx')"
   ]
  },
  {
   "cell_type": "code",
   "execution_count": 3,
   "metadata": {},
   "outputs": [
    {
     "name": "stdout",
     "output_type": "stream",
     "text": [
      "Dash is running on http://127.0.0.1:8050/\n",
      "\n",
      " * Serving Flask app '__main__'\n",
      " * Debug mode: off\n"
     ]
    },
    {
     "name": "stderr",
     "output_type": "stream",
     "text": [
      "[2023-04-10 20:27:37,516] ERROR in app: Exception on /_dash-update-component [POST]\n",
      "Traceback (most recent call last):\n",
      "  File \"c:\\Users\\joreu.konrad\\AppData\\Local\\Programs\\Python\\Python311\\Lib\\site-packages\\flask\\app.py\", line 2528, in wsgi_app\n",
      "    response = self.full_dispatch_request()\n",
      "               ^^^^^^^^^^^^^^^^^^^^^^^^^^^^\n",
      "  File \"c:\\Users\\joreu.konrad\\AppData\\Local\\Programs\\Python\\Python311\\Lib\\site-packages\\flask\\app.py\", line 1825, in full_dispatch_request\n",
      "    rv = self.handle_user_exception(e)\n",
      "         ^^^^^^^^^^^^^^^^^^^^^^^^^^^^^\n",
      "  File \"c:\\Users\\joreu.konrad\\AppData\\Local\\Programs\\Python\\Python311\\Lib\\site-packages\\flask\\app.py\", line 1823, in full_dispatch_request\n",
      "    rv = self.dispatch_request()\n",
      "         ^^^^^^^^^^^^^^^^^^^^^^^\n",
      "  File \"c:\\Users\\joreu.konrad\\AppData\\Local\\Programs\\Python\\Python311\\Lib\\site-packages\\flask\\app.py\", line 1799, in dispatch_request\n",
      "    return self.ensure_sync(self.view_functions[rule.endpoint])(**view_args)\n",
      "           ^^^^^^^^^^^^^^^^^^^^^^^^^^^^^^^^^^^^^^^^^^^^^^^^^^^^^^^^^^^^^^^^^\n",
      "  File \"c:\\Users\\joreu.konrad\\AppData\\Local\\Programs\\Python\\Python311\\Lib\\site-packages\\dash\\dash.py\", line 1283, in dispatch\n",
      "    ctx.run(\n",
      "  File \"c:\\Users\\joreu.konrad\\AppData\\Local\\Programs\\Python\\Python311\\Lib\\site-packages\\dash\\_callback.py\", line 450, in add_context\n",
      "    output_value = func(*func_args, **func_kwargs)  # %% callback invoked %%\n",
      "                   ^^^^^^^^^^^^^^^^^^^^^^^^^^^^^^^\n",
      "  File \"C:\\Users\\joreu.konrad\\AppData\\Local\\Temp\\ipykernel_1200\\1714719748.py\", line 31, in update_image\n",
      "    row = clickData['points'][0]['row']\n",
      "          ~~~~~~~~~^^^^^^^^^^\n",
      "TypeError: 'NoneType' object is not subscriptable\n"
     ]
    }
   ],
   "source": [
    "import dash\n",
    "import dash_core_components as dcc\n",
    "import dash_html_components as html\n",
    "from dash.dependencies import Input, Output\n",
    "\n",
    "app = dash.Dash(__name__)\n",
    "\n",
    "app.layout = html.Div([\n",
    "    dcc.Graph(id='table-graph',\n",
    "              figure={\n",
    "                  'data': [{\n",
    "                      'type': 'table',\n",
    "                      'header': {\n",
    "                          'values': list(df.columns),\n",
    "                          'fill': {'color': '#EBF0F8'}\n",
    "                      },\n",
    "                      'cells': {\n",
    "                          'values': df.values.tolist(),\n",
    "                          'fill': {'color': '#EBF0F8'},\n",
    "                          'align': 'center'\n",
    "                      }\n",
    "                  }]\n",
    "              }),\n",
    "    html.Img(id='image', src=''),\n",
    "])\n",
    "\n",
    "\n",
    "@app.callback(Output('image', 'src'),\n",
    "              Input('table-graph', 'clickData'))\n",
    "def update_image(clickData):\n",
    "    row = clickData['points'][0]['row']\n",
    "    image_src = df.iloc[row]['image']\n",
    "    return image_src\n",
    "\n",
    "\n",
    "if __name__ == '__main__':\n",
    "    app.run_server(debug=False)"
   ]
  }
 ],
 "metadata": {
  "kernelspec": {
   "display_name": "Python 3",
   "language": "python",
   "name": "python3"
  },
  "language_info": {
   "codemirror_mode": {
    "name": "ipython",
    "version": 3
   },
   "file_extension": ".py",
   "mimetype": "text/x-python",
   "name": "python",
   "nbconvert_exporter": "python",
   "pygments_lexer": "ipython3",
   "version": "3.11.1"
  },
  "orig_nbformat": 4
 },
 "nbformat": 4,
 "nbformat_minor": 2
}
