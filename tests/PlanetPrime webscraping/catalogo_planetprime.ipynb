{
 "cells": [
  {
   "cell_type": "code",
   "execution_count": 1,
   "metadata": {},
   "outputs": [],
   "source": [
    "url = 'https://www.planetprime.com.br/fones-de-ouvido'"
   ]
  },
  {
   "cell_type": "code",
   "execution_count": 3,
   "metadata": {},
   "outputs": [],
   "source": [
    "from urllib.request import urlopen\n",
    "from urllib.error import HTTPError\n",
    "from bs4 import BeautifulSoup\n",
    "\n",
    "html = urlopen(url)\n",
    "bsObj = BeautifulSoup(html.read(), \"lxml\")"
   ]
  },
  {
   "cell_type": "code",
   "execution_count": 6,
   "metadata": {},
   "outputs": [
    {
     "data": {
      "text/plain": [
       "<a class=\"info-product\" href=\"https://www.planetprime.com.br/caixas-de-som/caixas-de-som-bluetooth/caixa-de-som-bluetooth-portatil-jbl-xtreme-3-jblxtreme3blkbr\">\n",
       "<div class=\"product-name\">\n",
       "            Caixa de Som Bluetooth Portátil JBL Xtreme 3 - Preta JBLXTREME3BLKBR\n",
       "        </div>\n",
       "<div class=\"down-line\">\n",
       "<div class=\"box-price\">\n",
       "<div class=\"price\"><div class=\"product-price\">\n",
       "<span class=\"price-off\">\n",
       "                                                    R$ 1.799,00\n",
       "                                            </span>\n",
       "</div>\n",
       "</div>\n",
       "<div class=\"product-payment\">\n",
       "<br/>\n",
       "<span class=\"preco-avista precoAvista\">R$\n",
       "                    <span>\n",
       "<span>1.709<span>,<span>05</span></span></span>\n",
       "</span>\n",
       "</span>\n",
       "<span class=\"txt-avista\"> à <span> vista </span> </span>\n",
       "<span class=\"txt-com-desconto\">com <span> desconto </span></span><!-- 1|1709.05|{lower_price_id}|80 --><br/>\n",
       "<span class=\"txt-corparcelas\">\n",
       "<span class=\"txt-corparcelas\">\n",
       "<span class=\"preco-parc2\"> ou\n",
       "                                            <strong class=\"color\"> 10<span>x</span></strong>\n",
       "</span>\n",
       "</span>\n",
       "</span>\n",
       "<span class=\"preco-de\"> de </span>\n",
       "<span class=\"txt-cadaparcelas\">\n",
       "<strong class=\"preco-parc2\">R$\n",
       "                                        <span>\n",
       "<span>179<span>,<span>90</span></span></span>\n",
       "</span>\n",
       "</strong>\n",
       "</span>\n",
       "<span class=\"operadora\"> Sem juros </span>\n",
       "<!-- 10|179.90|{lower_price}|45 -->\n",
       "</div>\n",
       "</div>\n",
       "</div>\n",
       "</a>"
      ]
     },
     "execution_count": 6,
     "metadata": {},
     "output_type": "execute_result"
    }
   ],
   "source": [
    "lista_links_produtos = bsObj.find_all('a',{'class':'info-product'})\n",
    "lista_links_produtos[0]"
   ]
  },
  {
   "cell_type": "code",
   "execution_count": 9,
   "metadata": {},
   "outputs": [],
   "source": [
    "import pandas as pd\n",
    "\n",
    "lista_vazia = []\n",
    "df_links_produtos = pd.DataFrame(lista_vazia,columns=['Links'])"
   ]
  },
  {
   "cell_type": "code",
   "execution_count": 10,
   "metadata": {},
   "outputs": [],
   "source": [
    "for link_produto in lista_links_produtos:\n",
    "    link_produto = link_produto['href']\n",
    "    df_links_produtos.loc[len(df_links_produtos)] = [link_produto]\n",
    "    "
   ]
  },
  {
   "cell_type": "code",
   "execution_count": 11,
   "metadata": {},
   "outputs": [
    {
     "data": {
      "text/html": [
       "<div>\n",
       "<style scoped>\n",
       "    .dataframe tbody tr th:only-of-type {\n",
       "        vertical-align: middle;\n",
       "    }\n",
       "\n",
       "    .dataframe tbody tr th {\n",
       "        vertical-align: top;\n",
       "    }\n",
       "\n",
       "    .dataframe thead th {\n",
       "        text-align: right;\n",
       "    }\n",
       "</style>\n",
       "<table border=\"1\" class=\"dataframe\">\n",
       "  <thead>\n",
       "    <tr style=\"text-align: right;\">\n",
       "      <th></th>\n",
       "      <th>Links</th>\n",
       "    </tr>\n",
       "  </thead>\n",
       "  <tbody>\n",
       "    <tr>\n",
       "      <th>0</th>\n",
       "      <td>https://www.planetprime.com.br/caixas-de-som/c...</td>\n",
       "    </tr>\n",
       "    <tr>\n",
       "      <th>1</th>\n",
       "      <td>https://www.planetprime.com.br/fones-de-ouvido...</td>\n",
       "    </tr>\n",
       "    <tr>\n",
       "      <th>2</th>\n",
       "      <td>https://www.planetprime.com.br/fones-de-ouvido...</td>\n",
       "    </tr>\n",
       "    <tr>\n",
       "      <th>3</th>\n",
       "      <td>https://www.planetprime.com.br/fones-de-ouvido...</td>\n",
       "    </tr>\n",
       "    <tr>\n",
       "      <th>4</th>\n",
       "      <td>https://www.planetprime.com.br/fones-de-ouvido...</td>\n",
       "    </tr>\n",
       "    <tr>\n",
       "      <th>5</th>\n",
       "      <td>https://www.planetprime.com.br/fones-de-ouvido...</td>\n",
       "    </tr>\n",
       "    <tr>\n",
       "      <th>6</th>\n",
       "      <td>https://www.planetprime.com.br/fones-de-ouvido...</td>\n",
       "    </tr>\n",
       "    <tr>\n",
       "      <th>7</th>\n",
       "      <td>https://www.planetprime.com.br/fones-de-ouvido...</td>\n",
       "    </tr>\n",
       "    <tr>\n",
       "      <th>8</th>\n",
       "      <td>https://www.planetprime.com.br/audio/fones-de-...</td>\n",
       "    </tr>\n",
       "    <tr>\n",
       "      <th>9</th>\n",
       "      <td>https://www.planetprime.com.br/audio/fones-de-...</td>\n",
       "    </tr>\n",
       "    <tr>\n",
       "      <th>10</th>\n",
       "      <td>https://www.planetprime.com.br/audio/fones-de-...</td>\n",
       "    </tr>\n",
       "    <tr>\n",
       "      <th>11</th>\n",
       "      <td>https://www.planetprime.com.br/audio/fones-de-...</td>\n",
       "    </tr>\n",
       "    <tr>\n",
       "      <th>12</th>\n",
       "      <td>https://www.planetprime.com.br/audio/fones-de-...</td>\n",
       "    </tr>\n",
       "    <tr>\n",
       "      <th>13</th>\n",
       "      <td>https://www.planetprime.com.br/audio/fones-de-...</td>\n",
       "    </tr>\n",
       "    <tr>\n",
       "      <th>14</th>\n",
       "      <td>https://www.planetprime.com.br/audio/fones-de-...</td>\n",
       "    </tr>\n",
       "    <tr>\n",
       "      <th>15</th>\n",
       "      <td>https://www.planetprime.com.br/audio/fones-de-...</td>\n",
       "    </tr>\n",
       "    <tr>\n",
       "      <th>16</th>\n",
       "      <td>https://www.planetprime.com.br/audio/fones-de-...</td>\n",
       "    </tr>\n",
       "  </tbody>\n",
       "</table>\n",
       "</div>"
      ],
      "text/plain": [
       "                                                Links\n",
       "0   https://www.planetprime.com.br/caixas-de-som/c...\n",
       "1   https://www.planetprime.com.br/fones-de-ouvido...\n",
       "2   https://www.planetprime.com.br/fones-de-ouvido...\n",
       "3   https://www.planetprime.com.br/fones-de-ouvido...\n",
       "4   https://www.planetprime.com.br/fones-de-ouvido...\n",
       "5   https://www.planetprime.com.br/fones-de-ouvido...\n",
       "6   https://www.planetprime.com.br/fones-de-ouvido...\n",
       "7   https://www.planetprime.com.br/fones-de-ouvido...\n",
       "8   https://www.planetprime.com.br/audio/fones-de-...\n",
       "9   https://www.planetprime.com.br/audio/fones-de-...\n",
       "10  https://www.planetprime.com.br/audio/fones-de-...\n",
       "11  https://www.planetprime.com.br/audio/fones-de-...\n",
       "12  https://www.planetprime.com.br/audio/fones-de-...\n",
       "13  https://www.planetprime.com.br/audio/fones-de-...\n",
       "14  https://www.planetprime.com.br/audio/fones-de-...\n",
       "15  https://www.planetprime.com.br/audio/fones-de-...\n",
       "16  https://www.planetprime.com.br/audio/fones-de-..."
      ]
     },
     "execution_count": 11,
     "metadata": {},
     "output_type": "execute_result"
    }
   ],
   "source": [
    "df_links_produtos"
   ]
  },
  {
   "cell_type": "code",
   "execution_count": 13,
   "metadata": {},
   "outputs": [],
   "source": [
    "endereco_produto = df_links_produtos['Links'][1]"
   ]
  },
  {
   "cell_type": "code",
   "execution_count": 14,
   "metadata": {},
   "outputs": [],
   "source": [
    "html = urlopen(endereco_produto)\n",
    "bsObj = BeautifulSoup(html.read(), \"lxml\")"
   ]
  },
  {
   "cell_type": "code",
   "execution_count": 45,
   "metadata": {},
   "outputs": [
    {
     "data": {
      "text/plain": [
       "'Philips'"
      ]
     },
     "execution_count": 45,
     "metadata": {},
     "output_type": "execute_result"
    }
   ],
   "source": [
    "nome_produto = bsObj.find('h1',{'class':'product-name'}).get_text(' ',strip=True)\n",
    "\n",
    "preco_produto = bsObj.find('span',{'data-app':'product.price'}).get_text(' ',strip=True)\n",
    "\n",
    "div_infos_preco = bsObj.find('div',{'id':'produto_preco'})\n",
    "parcelamento_produto = div_infos_preco.find('strong').get_text(' ',strip=True)\n",
    "\n",
    "codigo_produto = bsObj.find('span',{'class':'ref'}).get_text(' ',strip=True).replace('(Cód.: ','').replace(')','')\n",
    "\n",
    "lista_aux = []\n",
    "td_infos_produto = bsObj.find_all('td')\n",
    "marca_produto = td_infos_produto[7]\n",
    "marca_produto = marca_produto.get_text(' ',strip=True)\n"
   ]
  },
  {
   "cell_type": "code",
   "execution_count": 46,
   "metadata": {},
   "outputs": [],
   "source": [
    "df_produtos = pd.DataFrame(lista_vazia,columns=['Nome',\n",
    "                                                'Preco',\n",
    "                                                'Parcelas',\n",
    "                                                'Marca',\n",
    "                                                'Codigo'\n",
    "                                                ])"
   ]
  },
  {
   "cell_type": "code",
   "execution_count": 47,
   "metadata": {},
   "outputs": [],
   "source": [
    "df_produtos.loc[len(df_produtos)] = [nome_produto,preco_produto,parcelamento_produto,marca_produto,codigo_produto]\n"
   ]
  },
  {
   "cell_type": "code",
   "execution_count": 48,
   "metadata": {},
   "outputs": [
    {
     "data": {
      "text/html": [
       "<div>\n",
       "<style scoped>\n",
       "    .dataframe tbody tr th:only-of-type {\n",
       "        vertical-align: middle;\n",
       "    }\n",
       "\n",
       "    .dataframe tbody tr th {\n",
       "        vertical-align: top;\n",
       "    }\n",
       "\n",
       "    .dataframe thead th {\n",
       "        text-align: right;\n",
       "    }\n",
       "</style>\n",
       "<table border=\"1\" class=\"dataframe\">\n",
       "  <thead>\n",
       "    <tr style=\"text-align: right;\">\n",
       "      <th></th>\n",
       "      <th>Nome</th>\n",
       "      <th>Preco</th>\n",
       "      <th>Parcelas</th>\n",
       "      <th>Marca</th>\n",
       "      <th>Codigo</th>\n",
       "    </tr>\n",
       "  </thead>\n",
       "  <tbody>\n",
       "    <tr>\n",
       "      <th>0</th>\n",
       "      <td>Headset USB Philips - Preto TAH3155BK</td>\n",
       "      <td>269,00</td>\n",
       "      <td>6 x</td>\n",
       "      <td>Philips</td>\n",
       "      <td>PHIFNE009PTO</td>\n",
       "    </tr>\n",
       "  </tbody>\n",
       "</table>\n",
       "</div>"
      ],
      "text/plain": [
       "                                    Nome   Preco Parcelas    Marca  \\\n",
       "0  Headset USB Philips - Preto TAH3155BK  269,00      6 x  Philips   \n",
       "\n",
       "         Codigo  \n",
       "0  PHIFNE009PTO  "
      ]
     },
     "execution_count": 48,
     "metadata": {},
     "output_type": "execute_result"
    }
   ],
   "source": [
    "df_produtos"
   ]
  },
  {
   "cell_type": "code",
   "execution_count": 50,
   "metadata": {},
   "outputs": [],
   "source": [
    "df_produtos.to_excel('Produtos_planetprime.xlsx')"
   ]
  },
  {
   "cell_type": "code",
   "execution_count": 52,
   "metadata": {},
   "outputs": [],
   "source": [
    "import time"
   ]
  },
  {
   "cell_type": "code",
   "execution_count": 57,
   "metadata": {},
   "outputs": [
    {
     "name": "stdout",
     "output_type": "stream",
     "text": [
      "Aguarde...\n",
      "Acessando o site...\n",
      "Produto Caixa de Som Bluetooth Portátil JBL Xtreme 3 - Preta JBLXTREME3BLKBR registrado!\n",
      "\n",
      "Aguarde...\n",
      "Acessando o site...\n",
      "Produto Headset USB Philips - Preto TAH3155BK registrado!\n",
      "\n",
      "Aguarde...\n",
      "Acessando o site...\n",
      "Produto Fone de Ouvido Infantil JBL JR310 - Vermelho e Azul JBLJR310RED registrado!\n",
      "\n",
      "Aguarde...\n"
     ]
    },
    {
     "ename": "KeyboardInterrupt",
     "evalue": "",
     "output_type": "error",
     "traceback": [
      "\u001b[1;31m---------------------------------------------------------------------------\u001b[0m",
      "\u001b[1;31mKeyboardInterrupt\u001b[0m                         Traceback (most recent call last)",
      "Cell \u001b[1;32mIn[57], line 4\u001b[0m\n\u001b[0;32m      1\u001b[0m \u001b[39mfor\u001b[39;00m endereco_produto \u001b[39min\u001b[39;00m df_links_produtos[\u001b[39m'\u001b[39m\u001b[39mLinks\u001b[39m\u001b[39m'\u001b[39m]:\n\u001b[0;32m      3\u001b[0m     \u001b[39mprint\u001b[39m(\u001b[39m'\u001b[39m\u001b[39mAguarde...\u001b[39m\u001b[39m'\u001b[39m)\n\u001b[1;32m----> 4\u001b[0m     time\u001b[39m.\u001b[39;49msleep(\u001b[39m4\u001b[39;49m)\n\u001b[0;32m      5\u001b[0m     \u001b[39mprint\u001b[39m(\u001b[39m'\u001b[39m\u001b[39mAcessando o site...\u001b[39m\u001b[39m'\u001b[39m)\n\u001b[0;32m      6\u001b[0m     \u001b[39m#Acessando o site e extraindo o html\u001b[39;00m\n",
      "\u001b[1;31mKeyboardInterrupt\u001b[0m: "
     ]
    }
   ],
   "source": [
    "for endereco_produto in df_links_produtos['Links']:\n",
    "    \n",
    "    print('Aguarde...')\n",
    "    time.sleep(4)\n",
    "    print('Acessando o site...')\n",
    "    #Acessando o site e extraindo o html\n",
    "    html = urlopen(endereco_produto)\n",
    "    bsObj = BeautifulSoup(html.read(), \"lxml\")\n",
    "    \n",
    "    nome_produto = bsObj.find('h1',{'class':'product-name'}).get_text(' ',strip=True)\n",
    "    preco_produto = bsObj.find('span',{'data-app':'product.price'}).get_text(' ',strip=True)\n",
    "    \n",
    "    div_infos_preco = bsObj.find('div',{'id':'produto_preco'})\n",
    "    parcelamento_produto = div_infos_preco.find('strong').get_text(' ',strip=True)\n",
    "\n",
    "    codigo_produto = bsObj.find('span',{'class':'ref'}).get_text(' ',strip=True).replace('(Cód.: ','').replace(')','')\n",
    "\n",
    "    \n",
    "    td_infos_produto = bsObj.find_all('td')\n",
    "    marca_produto = td_infos_produto[7]\n",
    "    marca_produto = marca_produto.get_text(' ',strip=True)\n",
    "    \n",
    "    \n",
    "    df_produtos = pd.DataFrame(lista_vazia,columns=['Nome',\n",
    "                                                'Preco',\n",
    "                                                'Parcelas',\n",
    "                                                'Marca',\n",
    "                                                'Codigo'\n",
    "                                                ])\n",
    "    df_produtos.loc[len(df_produtos)] = [nome_produto,preco_produto,parcelamento_produto,marca_produto,codigo_produto]\n",
    "    print('Produto '+ nome_produto +' registrado!\\n')\n",
    "    \n",
    "df_produtos.to_excel('C:/Users/Samsung/Desktop/projetos/Produtos_planetprime.xlsx')"
   ]
  },
  {
   "cell_type": "code",
   "execution_count": 59,
   "metadata": {},
   "outputs": [
    {
     "data": {
      "text/html": [
       "<div>\n",
       "<style scoped>\n",
       "    .dataframe tbody tr th:only-of-type {\n",
       "        vertical-align: middle;\n",
       "    }\n",
       "\n",
       "    .dataframe tbody tr th {\n",
       "        vertical-align: top;\n",
       "    }\n",
       "\n",
       "    .dataframe thead th {\n",
       "        text-align: right;\n",
       "    }\n",
       "</style>\n",
       "<table border=\"1\" class=\"dataframe\">\n",
       "  <thead>\n",
       "    <tr style=\"text-align: right;\">\n",
       "      <th></th>\n",
       "      <th>Nome</th>\n",
       "      <th>Preco</th>\n",
       "      <th>Parcelas</th>\n",
       "      <th>Marca</th>\n",
       "      <th>Codigo</th>\n",
       "    </tr>\n",
       "  </thead>\n",
       "  <tbody>\n",
       "    <tr>\n",
       "      <th>0</th>\n",
       "      <td>Fone de Ouvido Infantil JBL JR310 - Vermelho e...</td>\n",
       "      <td>159,00</td>\n",
       "      <td>3 x</td>\n",
       "      <td>JBL</td>\n",
       "      <td>JBLFNE048VML</td>\n",
       "    </tr>\n",
       "  </tbody>\n",
       "</table>\n",
       "</div>"
      ],
      "text/plain": [
       "                                                Nome   Preco Parcelas Marca  \\\n",
       "0  Fone de Ouvido Infantil JBL JR310 - Vermelho e...  159,00      3 x   JBL   \n",
       "\n",
       "         Codigo  \n",
       "0  JBLFNE048VML  "
      ]
     },
     "execution_count": 59,
     "metadata": {},
     "output_type": "execute_result"
    }
   ],
   "source": [
    "df_produtos"
   ]
  }
 ],
 "metadata": {
  "kernelspec": {
   "display_name": "Python 3",
   "language": "python",
   "name": "python3"
  },
  "language_info": {
   "codemirror_mode": {
    "name": "ipython",
    "version": 3
   },
   "file_extension": ".py",
   "mimetype": "text/x-python",
   "name": "python",
   "nbconvert_exporter": "python",
   "pygments_lexer": "ipython3",
   "version": "3.11.1"
  },
  "orig_nbformat": 4,
  "vscode": {
   "interpreter": {
    "hash": "52a1d4cf3fe78fdae8098db6ec78212d64ac31db2079e67559c21a56114ba40e"
   }
  }
 },
 "nbformat": 4,
 "nbformat_minor": 2
}
