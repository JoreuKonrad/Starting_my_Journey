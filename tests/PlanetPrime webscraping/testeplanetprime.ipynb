{
 "cells": [
  {
   "cell_type": "code",
   "execution_count": 5,
   "metadata": {},
   "outputs": [],
   "source": [
    "from urllib.request import urlopen\n",
    "from urllib.error import HTTPError\n",
    "from bs4 import BeautifulSoup\n",
    "\n",
    "html = urlopen('https://www.planetprime.com.br/caixas-de-som/caixas-de-som-bluetooth/caixa-de-som-bluetooth-portatil-jbl-go-3-preta-jblgo3blk')\n",
    "bsObj = BeautifulSoup(html.read(), \"lxml\")\n"
   ]
  },
  {
   "cell_type": "code",
   "execution_count": 9,
   "metadata": {},
   "outputs": [
    {
     "data": {
      "text/plain": [
       "'Caixa de Som Bluetooth Portatil JBL GO 3 - Preta JBLGO3BLK'"
      ]
     },
     "execution_count": 9,
     "metadata": {},
     "output_type": "execute_result"
    }
   ],
   "source": [
    "infosproduto = bsObj.find('h1', {'class': 'product-name'}).get_text(' ', strip=True)\n",
    "print(infosproduto)"
   ]
  },
  {
   "cell_type": "code",
   "execution_count": 13,
   "metadata": {},
   "outputs": [
    {
     "data": {
      "text/plain": [
       "[<td>Código</td>,\n",
       " <td>JBLCXS013PTO</td>,\n",
       " <td>Código de barras</td>,\n",
       " <td>6925281975615</td>,\n",
       " <td>Modelo</td>,\n",
       " <td>GO 3</td>,\n",
       " <td>Marca</td>,\n",
       " <td>JBL</td>,\n",
       " <td>Itens Inclusos</td>,\n",
       " <td>1 JBL Go 3<br/>\n",
       " 1 Cabo USB tipo C<br/>\n",
       " 1 Guia de Início Rápido<br/>\n",
       " 1 Cartão de Garantia<br/>\n",
       " 1 Ficha de Segurança</td>,\n",
       " <td>Garantia</td>,\n",
       " <td>12 Meses</td>]"
      ]
     },
     "execution_count": 13,
     "metadata": {},
     "output_type": "execute_result"
    }
   ],
   "source": [
    "infoooo = bsObj.find_all('td')\n",
    "infoooo"
   ]
  }
 ],
 "metadata": {
  "kernelspec": {
   "display_name": "Python 3",
   "language": "python",
   "name": "python3"
  },
  "language_info": {
   "codemirror_mode": {
    "name": "ipython",
    "version": 3
   },
   "file_extension": ".py",
   "mimetype": "text/x-python",
   "name": "python",
   "nbconvert_exporter": "python",
   "pygments_lexer": "ipython3",
   "version": "3.11.1 (tags/v3.11.1:a7a450f, Dec  6 2022, 19:58:39) [MSC v.1934 64 bit (AMD64)]"
  },
  "orig_nbformat": 4,
  "vscode": {
   "interpreter": {
    "hash": "52a1d4cf3fe78fdae8098db6ec78212d64ac31db2079e67559c21a56114ba40e"
   }
  }
 },
 "nbformat": 4,
 "nbformat_minor": 2
}
