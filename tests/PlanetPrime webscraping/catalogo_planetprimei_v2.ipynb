{
 "cells": [
  {
   "cell_type": "code",
   "execution_count": 1,
   "metadata": {},
   "outputs": [],
   "source": [
    "from urllib.request import urlopen\n",
    "from urllib.error import HTTPError\n",
    "from bs4 import BeautifulSoup\n",
    "import pandas as pd\n",
    "import time\n"
   ]
  },
  {
   "cell_type": "code",
   "execution_count": 17,
   "metadata": {},
   "outputs": [],
   "source": [
    "url = 'https://www.planetprime.com.br/fones-de-ouvido'\n",
    "\n",
    "html = urlopen(url)\n",
    "bsObj = BeautifulSoup(html.read(),'lxml')\n"
   ]
  },
  {
   "cell_type": "code",
   "execution_count": 21,
   "metadata": {},
   "outputs": [],
   "source": [
    "lista_vazia = []\n",
    "df_pages = pd.DataFrame(lista_vazia,columns=['Links'])"
   ]
  },
  {
   "cell_type": "code",
   "execution_count": 34,
   "metadata": {},
   "outputs": [
    {
     "name": "stdout",
     "output_type": "stream",
     "text": [
      "Teste:  https://www.planetprime.com.br/loja/catalogo.php?loja=634182&categoria=26&pg=2\n",
      "Teste:  https://www.planetprime.com.br/loja/catalogo.php?loja=634182&categoria=26&pg=3\n",
      "Teste:  https://www.planetprime.com.br/loja/catalogo.php?loja=634182&categoria=26&pg=4\n"
     ]
    }
   ],
   "source": [
    "div_lista_pages = bsObj.find('div',{'class':'paginate-links'})\n",
    "span_lista_pages = div_lista_pages.find_all('a',href=True)\n",
    "\n",
    "for page in span_lista_pages[0:-1]:\n",
    "    print('Teste: ', page['href'])\n",
    "   \n"
   ]
  },
  {
   "cell_type": "code",
   "execution_count": null,
   "metadata": {},
   "outputs": [],
   "source": [
    "lista_links_produtos = bsObj.find_all('a',{'class':'info-product'})\n",
    "\n",
    "lista_vazia = []\n",
    "df_links_produtos = pd.DataFrame(lista_vazia,columns=['Links'])\n",
    "df_produtos = pd.DataFrame(lista_vazia,columns=['Nome','Preco','Parcelas','Marca','Codigo'])"
   ]
  },
  {
   "cell_type": "code",
   "execution_count": null,
   "metadata": {},
   "outputs": [],
   "source": [
    "for link_produto in lista_links_produtos:\n",
    "    link_produto = link_produto['href']\n",
    "    df_links_produtos.loc[len(df_links_produtos)] = [link_produto]\n"
   ]
  },
  {
   "cell_type": "code",
   "execution_count": null,
   "metadata": {},
   "outputs": [],
   "source": [
    "endereco_produto = df_links_produtos['Links'][1]\n",
    "\n",
    "html = urlopen(endereco_produto)\n",
    "bsObj = BeautifulSoup(html.read(), \"lxml\")"
   ]
  },
  {
   "cell_type": "code",
   "execution_count": null,
   "metadata": {},
   "outputs": [],
   "source": [
    "nome_produto = bsObj.find('h1',{'class':'product-name'}).get_text(' ',strip=True)\n",
    "preco_produto = bsObj.find('span',{'data-app':'product.price'}).get_text(' ',strip=True)\n",
    "    \n",
    "div_infos_preco = bsObj.find('div',{'id':'produto_preco'})\n",
    "parcelamento_produto = div_infos_preco.find('strong').get_text(' ',strip=True)\n",
    "\n",
    "codigo_produto = bsObj.find('span',{'class':'ref'}).get_text(' ',strip=True).replace('(Cód.: ','').replace(')','')\n",
    "\n",
    "td_infos_produto = bsObj.find_all('td')\n",
    "x = 0\n",
    "for td_info in td_infos_produto:\n",
    "    \n",
    "    td_info = str(td_info)\n",
    "    \n",
    "    if td_info == '<td>Marca</td>':\n",
    "        marca_produto = td_infos_produto[x+1].get_text()       \n",
    "    x += 1\n",
    "\n"
   ]
  },
  {
   "cell_type": "code",
   "execution_count": null,
   "metadata": {},
   "outputs": [],
   "source": [
    "#df_produtos.loc[len(df_produtos)] = [nome_produto,preco_produto,parcelamento_produto,marca_produto,codigo_produto]\n",
    "\n",
    "#print('Produto '+ nome_produto +' registrado!\\n')"
   ]
  },
  {
   "cell_type": "code",
   "execution_count": null,
   "metadata": {},
   "outputs": [],
   "source": [
    "td_infos_produto = bsObj.find_all('td')\n",
    "\n",
    "\n",
    "\n",
    "td_infos_produto"
   ]
  },
  {
   "cell_type": "code",
   "execution_count": null,
   "metadata": {},
   "outputs": [],
   "source": [
    "x = 0\n",
    "for td_info in td_infos_produto:\n",
    "    \n",
    "    td_info = str(td_info)\n",
    "    \n",
    "    if td_info == '<td>Marca</td>':\n",
    "        marca_produto = td_infos_produto[x+1].get_text()       \n",
    "    x += 1\n",
    "print(marca_produto)"
   ]
  }
 ],
 "metadata": {
  "kernelspec": {
   "display_name": "Python 3",
   "language": "python",
   "name": "python3"
  },
  "language_info": {
   "codemirror_mode": {
    "name": "ipython",
    "version": 3
   },
   "file_extension": ".py",
   "mimetype": "text/x-python",
   "name": "python",
   "nbconvert_exporter": "python",
   "pygments_lexer": "ipython3",
   "version": "3.11.1 (tags/v3.11.1:a7a450f, Dec  6 2022, 19:58:39) [MSC v.1934 64 bit (AMD64)]"
  },
  "orig_nbformat": 4,
  "vscode": {
   "interpreter": {
    "hash": "52a1d4cf3fe78fdae8098db6ec78212d64ac31db2079e67559c21a56114ba40e"
   }
  }
 },
 "nbformat": 4,
 "nbformat_minor": 2
}
