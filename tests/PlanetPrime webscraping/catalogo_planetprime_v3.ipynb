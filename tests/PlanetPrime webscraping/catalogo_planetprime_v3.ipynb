{
 "cells": [
  {
   "cell_type": "code",
   "execution_count": 1,
   "metadata": {},
   "outputs": [],
   "source": [
    "from urllib.request import urlopen\n",
    "from urllib.error import HTTPError\n",
    "from bs4 import BeautifulSoup\n",
    "import pandas as pd\n",
    "import time"
   ]
  },
  {
   "cell_type": "code",
   "execution_count": 7,
   "metadata": {},
   "outputs": [],
   "source": [
    "lista_vazia = []\n",
    "df_pages = pd.DataFrame(lista_vazia,columns=['Links'])\n",
    "df_links_produtos = pd.DataFrame(lista_vazia,columns=['Links'])\n",
    "df_produtos = pd.DataFrame(lista_vazia,columns=['Nome','Preco','Parcelas','Marca','Codigo'])"
   ]
  },
  {
   "cell_type": "code",
   "execution_count": 4,
   "metadata": {},
   "outputs": [],
   "source": [
    "url = 'https://www.planetprime.com.br/loja/catalogo.php?loja=634182&categoria=185&pg=1'\n",
    "\n",
    "html = urlopen(url)\n",
    "bsObj = BeautifulSoup(html.read(),'lxml')"
   ]
  },
  {
   "cell_type": "code",
   "execution_count": null,
   "metadata": {},
   "outputs": [],
   "source": [
    "def coletar_links_produtos():\n",
    "    lista_links_produtos = bsObj.find_all('a',{'class':'info-product'})\n",
    "    \n",
    "    for link_produto in lista_links_produtos:\n",
    "        link_produto = link_produto['href']\n",
    "        df_links_produtos.loc[len(df_links_produtos)] = [link_produto]"
   ]
  },
  {
   "cell_type": "code",
   "execution_count": 3,
   "metadata": {},
   "outputs": [],
   "source": [
    "def buscar_next_page():\n",
    "    try:\n",
    "        next_page = bsObj.find('a',{'rel':'next'})['href']\n",
    "        df_pages.loc[len(df_pages)] = [next_page]\n",
    "        \n",
    "    except:        \n",
    "        pass"
   ]
  },
  {
   "cell_type": "code",
   "execution_count": 5,
   "metadata": {},
   "outputs": [],
   "source": [
    "def varrer_produtos():\n",
    "    for endereco_produto in df_links_produtos['Links']:\n",
    "        html = urlopen(endereco_produto)\n",
    "        bsObj = BeautifulSoup(html.read(), \"lxml\")\n",
    "        \n",
    "        nome_produto = bsObj.find('h1',{'class':'product-name'}).get_text(' ',strip=True)\n",
    "\n",
    "        try:\n",
    "            preco_produto = bsObj.find('span',{'data-app':'product.price'}).get_text(' ',strip=True)\n",
    "            div_infos_preco = bsObj.find('div',{'id':'produto_preco'})\n",
    "            parcelamento_produto = div_infos_preco.find('strong').get_text(' ',strip=True)\n",
    "            \n",
    "        except:\n",
    "            preco_produto = 'Produto Indisponivel'\n",
    "            parcelamento_produto = 'N/A'\n",
    "            pass\n",
    "        \n",
    "        codigo_produto = bsObj.find('span',{'class':'ref'}).get_text(' ',strip=True).replace('(Cód.: ','').replace(')','')\n",
    "\n",
    "        td_infos_produto = bsObj.find_all('td')\n",
    "        x = 0\n",
    "        for td_info in td_infos_produto:\n",
    "    \n",
    "            td_info = str(td_info)\n",
    "    \n",
    "            if td_info == '<td>Marca</td>':\n",
    "                marca_produto = td_infos_produto[x+1].get_text()       \n",
    "            x += 1\n",
    "            \n",
    "        df_produtos.loc[len(df_produtos)] = [nome_produto,preco_produto,parcelamento_produto,marca_produto,codigo_produto]\n",
    "        print('Produto '+ nome_produto +' registrado!\\n')\n",
    "    \n",
    "        df_produtos.to_excel('C:/Users/Samsung/Desktop/projetos/Produtos_planetprime.xlsx')\n",
    "    \n",
    "    print('\\nPagina concluida!')\n",
    "    \n"
   ]
  },
  {
   "cell_type": "code",
   "execution_count": 6,
   "metadata": {},
   "outputs": [
    {
     "name": "stdout",
     "output_type": "stream",
     "text": [
      "Produto Caixa de Som Bluetooth Portátil JBL Xtreme 3 - Preta JBLXTREME3BLKBR registrado!\n",
      "\n",
      "Produto Caixa de Som Bluetooth Portátil JBL PartyBox Encore Essential - JBLPBENCOREESSBR registrado!\n",
      "\n",
      "Produto Headset USB Philips - Preto TAH3155BK registrado!\n",
      "\n",
      "Produto Caixa de Som Bluetooth Portátil JBL Wind 2 - JBLWIND2 registrado!\n",
      "\n",
      "Produto Fone de Ouvido Infantil JBL JR310 - Vermelho e Azul JBLJR310RED registrado!\n",
      "\n",
      "Produto Fone de Ouvido Bluetooth JBL Tune 510BT - Azul JBLT510BTBLU registrado!\n",
      "\n",
      "Produto Fone de Ouvido Bluetooth JBL Tune 510BT - Branco JBLT510BTWHT registrado!\n",
      "\n",
      "Produto Fone de Ouvido Bluetooth JBL Tune 510BT - Preto JBLT510BTBLK registrado!\n",
      "\n",
      "Produto Fone de Ouvido Sennheiser HD 400S registrado!\n",
      "\n",
      "Produto Headset Gamer JBL Quantum 200 - JBLQUANTUM200BLK registrado!\n",
      "\n",
      "Produto Fone de Ouvido Bluetooth JBL Wave Flex - Branco JBLWFLEXWHT registrado!\n",
      "\n",
      "Produto Fone de Ouvido Bluetooth JBL Wave Flex - Preto JBLWFLEXBLK registrado!\n",
      "\n",
      "Produto Soundbar JBL BAR 800 com 7.1 Canais Caixas Surround Destacáveis Subwoofer Wireless Dolby Atmos 3D - JBLBAR800PROBLKBR registrado!\n",
      "\n",
      "Produto Caixa de Som Bluetooth Portátil JBL Charge 5 - Vermelha JBLCHARGE5RED registrado!\n",
      "\n",
      "Produto Fone de Ouvido Bluetooth Edifier W100T - Preto EDF200081 registrado!\n",
      "\n",
      "Produto Caixa de Som Bluetooth Portátil Philips Extra Bass EB05 registrado!\n",
      "\n",
      "Produto Caixa de Som Bluetooth Portátil Philips Extra Bass EB10 registrado!\n",
      "\n",
      "\n",
      "Pagina concluida!\n",
      "*** Programa Concluido! ***\n"
     ]
    }
   ],
   "source": [
    "varrer_produtos(bsObj)\n"
   ]
  }
 ],
 "metadata": {
  "kernelspec": {
   "display_name": "Python 3",
   "language": "python",
   "name": "python3"
  },
  "language_info": {
   "codemirror_mode": {
    "name": "ipython",
    "version": 3
   },
   "file_extension": ".py",
   "mimetype": "text/x-python",
   "name": "python",
   "nbconvert_exporter": "python",
   "pygments_lexer": "ipython3",
   "version": "3.11.1"
  },
  "orig_nbformat": 4,
  "vscode": {
   "interpreter": {
    "hash": "52a1d4cf3fe78fdae8098db6ec78212d64ac31db2079e67559c21a56114ba40e"
   }
  }
 },
 "nbformat": 4,
 "nbformat_minor": 2
}
