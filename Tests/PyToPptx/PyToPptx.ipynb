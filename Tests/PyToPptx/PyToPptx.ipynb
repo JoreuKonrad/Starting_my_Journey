{
 "cells": [
  {
   "cell_type": "code",
   "execution_count": 1,
   "metadata": {},
   "outputs": [
    {
     "data": {
      "text/plain": [
       "<Axes: >"
      ]
     },
     "execution_count": 1,
     "metadata": {},
     "output_type": "execute_result"
    },
    {
     "data": {
      "image/png": "[encoded data removed]",
      "text/plain": [
       "<Figure size 800x250 with 1 Axes>"
      ]
     },
     "metadata": {},
     "output_type": "display_data"
    }
   ],
   "source": [
    "# Versao 1 (Editado com formatação)\n",
    "import pandas as pd\n",
    "import numpy as np\n",
    "import matplotlib.pyplot as plt\n",
    "import six\n",
    "\n",
    "df = pd.DataFrame()\n",
    "df['date'] = ['2016-04-01', '2016-04-02', '2016-04-03']\n",
    "df['calories'] = [2200, 2100, 1500]\n",
    "df['sleep hours'] = [2200, 2100, 1500]\n",
    "df['gym'] = [True, False, False]\n",
    "\n",
    "\n",
    "def render_mpl_table(data, col_width=3.0, row_height=0.625, font_size=14,\n",
    "                     header_color='#40466e', row_colors=['#f1f1f2', 'w'], edge_color='w',\n",
    "                     bbox=[0, 0, 1, 1], header_columns=0,\n",
    "                     ax=None, **kwargs):\n",
    "    if ax is None:\n",
    "        size = (np.array(data.shape[::-1]) + np.array([0, 1])) * np.array([col_width, row_height])\n",
    "        fig, ax = plt.subplots(figsize=size)\n",
    "        ax.axis('off')\n",
    "\n",
    "    mpl_table = ax.table(cellText=data.values, bbox=bbox, colLabels=data.columns, **kwargs)\n",
    "\n",
    "    mpl_table.auto_set_font_size(False)\n",
    "    mpl_table.set_fontsize(font_size)\n",
    "\n",
    "    for k, cell in  six.iteritems(mpl_table._cells):\n",
    "        cell.set_edgecolor(edge_color)\n",
    "        if k[0] == 0 or k[1] < header_columns:\n",
    "            cell.set_text_props(weight='bold', color='w')\n",
    "            cell.set_facecolor(header_color)\n",
    "        else:\n",
    "            cell.set_facecolor(row_colors[k[0]%len(row_colors) ])\n",
    "    return ax\n",
    "\n",
    "render_mpl_table(df, header_columns=0, col_width=2.0)"
   ]
  },
  {
   "cell_type": "code",
   "execution_count": 2,
   "metadata": {},
   "outputs": [
    {
     "name": "stdout",
     "output_type": "stream",
     "text": [
      "Arquivo dados_dataframe.pptx criado com sucesso!\n"
     ]
    }
   ],
   "source": [
    "# Versao 2\n",
    "\n",
    "import pandas as pd\n",
    "from pptx import Presentation\n",
    "from pptx.util import Inches\n",
    "\n",
    "def export_dataframe_to_pptx(dataframe, output_file):\n",
    "    # Criar um arquivo PowerPoint e adicionar um slide\n",
    "    prs = Presentation()\n",
    "    slide = prs.slides.add_slide(prs.slide_layouts[5])  # Layout de título e conteúdo\n",
    "\n",
    "    # Definir o título do slide\n",
    "    title = slide.shapes.title\n",
    "    title.text = \"Dados do DataFrame\"\n",
    "\n",
    "    # Criar uma tabela para exibir os dados do DataFrame\n",
    "    num_rows, num_cols = dataframe.shape\n",
    "    left = Inches(1)\n",
    "    top = Inches(2)\n",
    "    width = Inches(8)\n",
    "    height = Inches(4)\n",
    "    table = slide.shapes.add_table(num_rows + 1, num_cols, left, top, width, height).table\n",
    "\n",
    "    # Definir cabeçalhos da tabela com os nomes das colunas do DataFrame\n",
    "    for i, col in enumerate(dataframe.columns):\n",
    "        table.cell(0, i).text = col\n",
    "\n",
    "    # Preencher a tabela com os dados do DataFrame\n",
    "    for r in range(num_rows):\n",
    "        for c in range(num_cols):\n",
    "            table.cell(r + 1, c).text = str(dataframe.iloc[r, c])\n",
    "\n",
    "    # Salvar o arquivo PowerPoint\n",
    "    prs.save(output_file)\n",
    "    print(f\"Arquivo {output_file} criado com sucesso!\")\n",
    "\n",
    "# Exemplo de uso\n",
    "if __name__ == \"__main__\":\n",
    "    # Exemplo de DataFrame para teste\n",
    "    data = {\n",
    "        \"Nome\": [\"João\", \"Maria\", \"Pedro\"],\n",
    "        \"Idade\": [25, 30, 22],\n",
    "        \"Cidade\": [\"São Paulo\", \"Rio de Janeiro\", \"Belo Horizonte\"],\n",
    "    }\n",
    "    df = pd.DataFrame(data)\n",
    "\n",
    "    # Exportar DataFrame para arquivo PPTX\n",
    "    output_filename = \"dados_dataframe.pptx\"\n",
    "    export_dataframe_to_pptx(df, output_filename)\n"
   ]
  }
 ],
 "metadata": {
  "kernelspec": {
   "display_name": "Python 3",
   "language": "python",
   "name": "python3"
  },
  "language_info": {
   "codemirror_mode": {
    "name": "ipython",
    "version": 3
   },
   "file_extension": ".py",
   "mimetype": "text/x-python",
   "name": "python",
   "nbconvert_exporter": "python",
   "pygments_lexer": "ipython3",
   "version": "3.11.1"
  },
  "orig_nbformat": 4
 },
 "nbformat": 4,
 "nbformat_minor": 2
}
