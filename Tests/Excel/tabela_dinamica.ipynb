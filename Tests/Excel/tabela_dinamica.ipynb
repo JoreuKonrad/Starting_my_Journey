{
 "cells": [
  {
   "cell_type": "code",
   "execution_count": 6,
   "metadata": {},
   "outputs": [],
   "source": [
    "from spire.xls import *\n",
    "from spire.xls.common import *\n",
    "\n",
    "# Create a Workbook object\n",
    "workbook = Workbook()\n",
    "\n",
    "# Load an Excel document containing data for creating pivot table\n",
    "workbook.LoadFromFile(\"C:/Users/Konrad/Documents/VS Workspace/Starting_my_Journey/Tests/Excel/dados.xlsx\")\n",
    "\n",
    "# Get the first worksheet\n",
    "sheet = workbook.Worksheets[0]\n",
    "\n",
    "# Select the data source range\n",
    "cellRange = sheet.Range[\"A1:B3\"]\n",
    "piVotCache = workbook.PivotCaches.Add(cellRange)\n",
    "\n",
    "# Add a PivotTable to the worksheet and set the location and cache of it\n",
    "pivotTable = sheet.PivotTables.Add(\"Pivot Table\", sheet.Range[\"I1\"], piVotCache)\n",
    "\n",
    "# Apply a built-in style to the pivot table\n",
    "pivotTable.BuiltInStyle = PivotBuiltInStyles.PivotStyleMedium11"
   ]
  },
  {
   "cell_type": "code",
   "execution_count": 18,
   "metadata": {},
   "outputs": [],
   "source": [
    "# Save the document\n",
    "workbook.SaveToFile(\"C:/Users/Konrad/Documents/VS Workspace/Starting_my_Journey/Tests/Excel/pivot.xlsx\", ExcelVersion.Version2016)\n",
    "# Remove the 'Evaluation Warning' worksheet if it exists\n",
    "if 'Evaluation Warning' in workbook.Worksheets:\n",
    "    workbook.Worksheets.Remove('Evaluation Warning')\n",
    "\n",
    "# save the document\n",
    "workbook.SaveToFile(\"C:/Users/Konrad/Documents/VS Workspace/Starting_my_Journey/Tests/Excel/pivot.xlsx\", ExcelVersion.Version2016)\n"
   ]
  }
 ],
 "metadata": {
  "language_info": {
   "name": "python"
  }
 },
 "nbformat": 4,
 "nbformat_minor": 2
}
