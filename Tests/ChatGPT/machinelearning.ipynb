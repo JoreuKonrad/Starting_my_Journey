{
 "cells": [
  {
   "cell_type": "code",
   "execution_count": 1,
   "metadata": {},
   "outputs": [],
   "source": [
    "import pandas as pd\n",
    "import numpy as np\n",
    "from sklearn.model_selection import train_test_split\n",
    "from sklearn.ensemble import RandomForestRegressor\n",
    "from sklearn.preprocessing import LabelEncoder\n",
    "\n",
    "def criar_base_dados():\n",
    "    np.random.seed(42)\n",
    "    clientes = [\"Cliente A\", \"Cliente B\", \"Cliente C\", \"Cliente D\"]\n",
    "    carros = [\"Sedan\", \"SUV\", \"Hatch\", \"Pickup\"]\n",
    "    cores = [\"Preto\", \"Branco\", \"Vermelho\", \"Azul\"]\n",
    "    \n",
    "    dados = []\n",
    "    for _ in range(500):\n",
    "        cliente = np.random.choice(clientes)\n",
    "        mes_ano = f\"{np.random.randint(2023, 2025)}/{np.random.randint(1, 13)}\"\n",
    "        carro = np.random.choice(carros)\n",
    "        cor = np.random.choice(cores)\n",
    "        quantidade = np.random.randint(1, 5)\n",
    "        receita = quantidade * np.random.randint(30000, 120000)\n",
    "        \n",
    "        dados.append([cliente, mes_ano, carro, cor, quantidade, receita])\n",
    "    \n",
    "    df = pd.DataFrame(dados, columns=[\"Nome do Cliente\", \"Mes/Ano de Faturamento\", \"Nome do Carro\", \"Cor do Carro\", \"Quantidade\", \"Receita\"])\n",
    "    return df\n",
    "\n",
    "def treinar_modelo(df):\n",
    "    df[\"Ano\"] = df[\"Mes/Ano de Faturamento\"].apply(lambda x: int(x.split(\"/\")[0]))\n",
    "    df[\"Mes\"] = df[\"Mes/Ano de Faturamento\"].apply(lambda x: int(x.split(\"/\")[1]))\n",
    "    df.drop(columns=[\"Mes/Ano de Faturamento\"], inplace=True)\n",
    "    \n",
    "    le_cliente = LabelEncoder()\n",
    "    le_carro = LabelEncoder()\n",
    "    le_cor = LabelEncoder()\n",
    "    \n",
    "    df[\"Nome do Cliente\"] = le_cliente.fit_transform(df[\"Nome do Cliente\"])\n",
    "    df[\"Nome do Carro\"] = le_carro.fit_transform(df[\"Nome do Carro\"])\n",
    "    df[\"Cor do Carro\"] = le_cor.fit_transform(df[\"Cor do Carro\"])\n",
    "    \n",
    "    X = df.drop(columns=[\"Quantidade\"])\n",
    "    y = df[\"Quantidade\"]\n",
    "    \n",
    "    X_train, X_test, y_train, y_test = train_test_split(X, y, test_size=0.2, random_state=42)\n",
    "    modelo = RandomForestRegressor(n_estimators=100, random_state=42)\n",
    "    modelo.fit(X_train, y_train)\n",
    "    \n",
    "    return modelo, le_cliente, le_carro, le_cor\n",
    "\n",
    "def prever_compra(modelo, le_cliente, le_carro, le_cor, cliente, carro, cor):\n",
    "    cliente_cod = le_cliente.transform([cliente])[0]\n",
    "    carro_cod = le_carro.transform([carro])[0]\n",
    "    cor_cod = le_cor.transform([cor])[0]\n",
    "    \n",
    "    entrada = np.array([[cliente_cod, carro_cod, cor_cod, 2025, 3]])  # Prevendo para Março/2025\n",
    "    previsao = modelo.predict(entrada)\n",
    "    return round(previsao[0])\n",
    "\n",
    "\n"
   ]
  },
  {
   "cell_type": "code",
   "execution_count": 2,
   "metadata": {},
   "outputs": [],
   "source": [
    "# Criar e treinar o modelo\n",
    "df = criar_base_dados()\n",
    "modelo, le_cliente, le_carro, le_cor = treinar_modelo(df)"
   ]
  },
  {
   "cell_type": "code",
   "execution_count": 16,
   "metadata": {},
   "outputs": [
    {
     "name": "stdout",
     "output_type": "stream",
     "text": [
      "Erro: Cliente, carro ou cor não encontrados na base de dados.\n"
     ]
    },
    {
     "name": "stderr",
     "output_type": "stream",
     "text": [
      "c:\\Users\\Konrad\\AppData\\Local\\Programs\\Python\\Python312\\Lib\\site-packages\\sklearn\\utils\\validation.py:2739: UserWarning: X does not have valid feature names, but RandomForestRegressor was fitted with feature names\n",
      "  warnings.warn(\n"
     ]
    }
   ],
   "source": [
    "# Input do usuário\n",
    "cliente = input(\"Digite o nome do cliente: \")\n",
    "carro = input(\"Digite o modelo do carro: \")\n",
    "cor = input(\"Digite a cor do carro: \")\n",
    "\n",
    "# Fazer previsão\n",
    "try:\n",
    "    resultado = prever_compra(modelo, le_cliente, le_carro, le_cor, cliente, carro, cor)\n",
    "    print(f\"Previsão de compra para {cliente}: {resultado} unidades do {carro} ({cor}) no próximo mês.\")\n",
    "except ValueError:\n",
    "    print(\"Erro: Cliente, carro ou cor não encontrados na base de dados.\")"
   ]
  }
 ],
 "metadata": {
  "kernelspec": {
   "display_name": "Python 3",
   "language": "python",
   "name": "python3"
  },
  "language_info": {
   "codemirror_mode": {
    "name": "ipython",
    "version": 3
   },
   "file_extension": ".py",
   "mimetype": "text/x-python",
   "name": "python",
   "nbconvert_exporter": "python",
   "pygments_lexer": "ipython3",
   "version": "3.12.4"
  }
 },
 "nbformat": 4,
 "nbformat_minor": 2
}
