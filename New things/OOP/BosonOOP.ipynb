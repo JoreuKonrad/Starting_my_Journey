{
 "cells": [
  {
   "cell_type": "code",
   "execution_count": 5,
   "metadata": {},
   "outputs": [
    {
     "name": "stdout",
     "output_type": "stream",
     "text": [
      "Felino\n",
      "Felino\n",
      "Kiki\n",
      "Cookie\n"
     ]
    }
   ],
   "source": [
    "# Variaveis de classe e de Istancia\n",
    "\n",
    "class Gato:\n",
    "    tipo_animal = 'Felino'\n",
    "\n",
    "    def __init__(self,nome):\n",
    "        self.nome = nome\n",
    "\n",
    "g1 = Gato('Kiki')\n",
    "g2 = Gato('Cookie')\n",
    "\n",
    "print(g1.tipo_animal)\n",
    "print(g1.tipo_animal)\n",
    "\n",
    "print(g1.nome)\n",
    "print(g2.nome)"
   ]
  },
  {
   "cell_type": "code",
   "execution_count": 6,
   "metadata": {},
   "outputs": [],
   "source": [
    "Gato.tipo_animal = 'PNC'"
   ]
  },
  {
   "cell_type": "code",
   "execution_count": 7,
   "metadata": {},
   "outputs": [
    {
     "name": "stdout",
     "output_type": "stream",
     "text": [
      "PNC\n",
      "PNC\n",
      "Kiki\n",
      "Cookie\n"
     ]
    }
   ],
   "source": [
    "print(g1.tipo_animal)\n",
    "print(g2.tipo_animal)\n",
    "\n",
    "print(g1.nome)\n",
    "print(g2.nome)"
   ]
  },
  {
   "cell_type": "code",
   "execution_count": 8,
   "metadata": {},
   "outputs": [],
   "source": [
    "g1.tipo_animal = 'Mais PNC'"
   ]
  },
  {
   "cell_type": "code",
   "execution_count": 10,
   "metadata": {},
   "outputs": [
    {
     "name": "stdout",
     "output_type": "stream",
     "text": [
      "Mais PNC\n",
      "PNC\n",
      "Kiki\n",
      "Cookie\n"
     ]
    }
   ],
   "source": [
    "print(g1.tipo_animal)\n",
    "print(g2.tipo_animal)\n",
    "\n",
    "print(g1.nome)\n",
    "print(g2.nome)"
   ]
  }
 ],
 "metadata": {
  "kernelspec": {
   "display_name": "Python 3",
   "language": "python",
   "name": "python3"
  },
  "language_info": {
   "codemirror_mode": {
    "name": "ipython",
    "version": 3
   },
   "file_extension": ".py",
   "mimetype": "text/x-python",
   "name": "python",
   "nbconvert_exporter": "python",
   "pygments_lexer": "ipython3",
   "version": "3.11.1"
  },
  "orig_nbformat": 4
 },
 "nbformat": 4,
 "nbformat_minor": 2
}
