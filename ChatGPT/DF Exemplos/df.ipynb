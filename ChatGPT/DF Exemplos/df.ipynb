{
 "cells": [
  {
   "cell_type": "code",
   "execution_count": 2,
   "metadata": {},
   "outputs": [
    {
     "name": "stdout",
     "output_type": "stream",
     "text": [
      "DataFrame Original:\n",
      "   ID     Matéria  Nota Nome_Aluno Turma\n",
      "0   1  Matemática    90      Alice     A\n",
      "1   2  Matemática    88        Bob     B\n",
      "2   3  Matemática    92    Charlie     A\n",
      "3   1    História    78      Alice     B\n",
      "4   2    História    85        Bob     A\n",
      "5   3    História    88    Charlie     B\n",
      "\n",
      "DataFrame com Matérias como Colunas:\n",
      "Matéria  ID  História  Matemática\n",
      "0         1        78          90\n",
      "1         2        85          88\n",
      "2         3        88          92\n"
     ]
    }
   ],
   "source": [
    "import pandas as pd\n",
    "\n",
    "# Criar um DataFrame de exemplo\n",
    "df = pd.DataFrame({\n",
    "    'ID': [1, 2, 3, 1, 2, 3],\n",
    "    'Matéria': ['Matemática', 'Matemática', 'Matemática', 'História', 'História', 'História'],\n",
    "    'Nota': [90, 88, 92, 78, 85, 88]\n",
    "})\n",
    "\n",
    "# Adicionar coluna \"Nome_Aluno\"\n",
    "df['Nome_Aluno'] = ['Alice', 'Bob', 'Charlie', 'Alice', 'Bob', 'Charlie']\n",
    "\n",
    "# Adicionar coluna \"Turma\"\n",
    "df['Turma'] = ['A', 'B', 'A', 'B', 'A', 'B']\n",
    "\n",
    "print(\"DataFrame Original:\")\n",
    "print(df)\n",
    "\n",
    "# Usar a função pivot para transformar as Matérias em colunas\n",
    "df_pivot = df.pivot(index='ID', columns='Matéria', values='Nota').reset_index()\n",
    "\n",
    "print(\"\\nDataFrame com Matérias como Colunas:\")\n",
    "print(df_pivot)\n"
   ]
  }
 ],
 "metadata": {
  "kernelspec": {
   "display_name": "Python 3",
   "language": "python",
   "name": "python3"
  },
  "language_info": {
   "codemirror_mode": {
    "name": "ipython",
    "version": 3
   },
   "file_extension": ".py",
   "mimetype": "text/x-python",
   "name": "python",
   "nbconvert_exporter": "python",
   "pygments_lexer": "ipython3",
   "version": "3.11.1"
  }
 },
 "nbformat": 4,
 "nbformat_minor": 2
}
