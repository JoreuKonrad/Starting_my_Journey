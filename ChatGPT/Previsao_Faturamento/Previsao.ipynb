{
 "cells": [
  {
   "cell_type": "code",
   "execution_count": 18,
   "metadata": {},
   "outputs": [
    {
     "name": "stdout",
     "output_type": "stream",
     "text": [
      "Dados Originais:\n",
      "   Cliente  Produto        Data de Faturamento  Quantidade\n",
      "0        4        2 2022-11-30 19:41:08.840763          44\n",
      "1        5        2 2022-12-31 19:41:08.840763          74\n",
      "2        3        2 2023-01-31 19:41:08.840763          56\n",
      "3        5        2 2023-02-28 19:41:08.840763          87\n",
      "4        5        2 2023-03-31 19:41:08.840763          12\n",
      "\n",
      "\n",
      "Previsões de Faturamento para os Próximos 3 Meses:\n",
      "   Mes   Ano    Previsao\n",
      "0   11  2023   63.448507\n",
      "1   12  2023   59.694446\n",
      "2    1  2024  115.186268\n"
     ]
    }
   ],
   "source": [
    "import pandas as pd\n",
    "import numpy as np\n",
    "from sklearn.model_selection import train_test_split\n",
    "from sklearn.linear_model import LinearRegression\n",
    "from sklearn.metrics import mean_squared_error\n",
    "from datetime import datetime, timedelta\n",
    "\n",
    "# Gerar dados fictícios\n",
    "np.random.seed(42)\n",
    "\n",
    "# Criar datas mensais para os últimos 12 meses\n",
    "datas = pd.date_range(end=datetime.now(), periods=12, freq='M').to_list() * 5\n",
    "\n",
    "# Criar códigos de cliente, produtos e quantidades aleatórias\n",
    "codigos_cliente = np.random.randint(1, 6, size=len(datas))\n",
    "codigos_produto = np.random.randint(1, 4, size=len(datas))\n",
    "quantidades = np.random.randint(10, 100, size=len(datas))\n",
    "\n",
    "# Criar DataFrame\n",
    "dados = pd.DataFrame({\n",
    "    'Cliente': codigos_cliente,\n",
    "    'Produto': codigos_produto,\n",
    "    'Data de Faturamento': datas,\n",
    "    'Quantidade': quantidades\n",
    "})\n",
    "\n",
    "# Exibir os primeiros registros do DataFrame\n",
    "print(\"Dados Originais:\")\n",
    "print(dados.head())\n",
    "print(\"\\n\")\n",
    "\n",
    "# Agregar dados para obter o faturamento total por cliente por mês\n",
    "dados_agregados = dados.groupby(['Cliente', pd.Grouper(key='Data de Faturamento', freq='M')])['Quantidade'].sum().reset_index()\n",
    "\n",
    "# Criar features (características) para o modelo\n",
    "dados_agregados['Mes'] = dados_agregados['Data de Faturamento'].dt.month\n",
    "dados_agregados['Ano'] = dados_agregados['Data de Faturamento'].dt.year\n",
    "\n",
    "# Dividir os dados em treino e teste\n",
    "train_data, test_data = train_test_split(dados_agregados, test_size=0.2, random_state=42)\n",
    "\n",
    "# Criar modelo de regressão linear\n",
    "modelo = LinearRegression()\n",
    "\n",
    "# Treinar o modelo\n",
    "modelo.fit(train_data[['Mes', 'Ano']], train_data['Quantidade'])\n",
    "\n",
    "# Fazer previsões para os próximos 3 meses\n",
    "ultimo_mes = dados_agregados['Data de Faturamento'].max()\n",
    "proximos_tres_meses = [ultimo_mes + timedelta(days=30*i) for i in range(1, 4)]\n",
    "previsoes = pd.DataFrame({'Mes': [mes.month for mes in proximos_tres_meses], 'Ano': [mes.year for mes in proximos_tres_meses]})\n",
    "previsoes['Previsao'] = modelo.predict(previsoes[['Mes', 'Ano']])\n",
    "\n",
    "# Visualizar as previsões\n",
    "print(\"Previsões de Faturamento para os Próximos 3 Meses:\")\n",
    "print(previsoes)\n"
   ]
  }
 ],
 "metadata": {
  "kernelspec": {
   "display_name": "Python 3",
   "language": "python",
   "name": "python3"
  },
  "language_info": {
   "codemirror_mode": {
    "name": "ipython",
    "version": 3
   },
   "file_extension": ".py",
   "mimetype": "text/x-python",
   "name": "python",
   "nbconvert_exporter": "python",
   "pygments_lexer": "ipython3",
   "version": "3.11.1"
  }
 },
 "nbformat": 4,
 "nbformat_minor": 2
}
