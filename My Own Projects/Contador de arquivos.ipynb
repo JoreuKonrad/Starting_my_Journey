{
 "cells": [
  {
   "cell_type": "code",
   "execution_count": null,
   "metadata": {},
   "outputs": [],
   "source": [
    "local_save = 'c:/...'\n",
    "\n",
    "def list_files(directory):\n",
    "    file_list = []\n",
    "    for root, dirs, files in os.walk(directory):\n",
    "        for file in files:\n",
    "            if '.txt' in file:  \n",
    "                file_list.append(file)\n",
    "    return file_list\n",
    "\n",
    "\n",
    "# Call the function to get the list of file names\n",
    "files = list_files(local_save)\n",
    "\n",
    "print(len(files))"
   ]
  }
 ],
 "metadata": {
  "language_info": {
   "name": "python"
  },
  "orig_nbformat": 4
 },
 "nbformat": 4,
 "nbformat_minor": 2
}
