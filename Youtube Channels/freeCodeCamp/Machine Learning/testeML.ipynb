{
 "cells": [
  {
   "cell_type": "code",
   "execution_count": 1,
   "metadata": {},
   "outputs": [
    {
     "name": "stdout",
     "output_type": "stream",
     "text": [
      "[400000.]\n"
     ]
    }
   ],
   "source": [
    "from sklearn.linear_model import LinearRegression\n",
    "\n",
    "# Criar um conjunto de dados de exemplo com 1000 amostras e 1 recurso (tamanho)\n",
    "X = [[100], [150], [200], [250], [300], [350]]\n",
    "y = [100000, 150000, 200000, 250000, 300000, 350000]\n",
    "\n",
    "# Criar um objeto de regressão linear\n",
    "reg = LinearRegression()\n",
    "\n",
    "# Ajustar o modelo aos dados de treinamento\n",
    "reg.fit(X, y)\n",
    "\n",
    "# Fazer previsões para novos dados (prever o preço de uma casa com tamanho de 400 metros quadrados)\n",
    "X_new = [[400]]\n",
    "y_pred = reg.predict(X_new)\n",
    "print(y_pred)\n"
   ]
  },
  {
   "cell_type": "code",
   "execution_count": 2,
   "metadata": {},
   "outputs": [
    {
     "name": "stdout",
     "output_type": "stream",
     "text": [
      "[700000.]\n"
     ]
    }
   ],
   "source": [
    "X_new = [[700]]\n",
    "y_pred = reg.predict(X_new)\n",
    "print(y_pred)"
   ]
  }
 ],
 "metadata": {
  "kernelspec": {
   "display_name": "Python 3",
   "language": "python",
   "name": "python3"
  },
  "language_info": {
   "codemirror_mode": {
    "name": "ipython",
    "version": 3
   },
   "file_extension": ".py",
   "mimetype": "text/x-python",
   "name": "python",
   "nbconvert_exporter": "python",
   "pygments_lexer": "ipython3",
   "version": "3.11.1"
  },
  "orig_nbformat": 4
 },
 "nbformat": 4,
 "nbformat_minor": 2
}
